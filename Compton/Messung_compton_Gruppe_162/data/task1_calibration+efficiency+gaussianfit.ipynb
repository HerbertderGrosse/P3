{
 "cells": [
  {
   "cell_type": "code",
   "execution_count": 2,
   "metadata": {},
   "outputs": [],
   "source": [
    "import struct\n",
    "import sys\n",
    "import os\n",
    "import numpy as np\n",
    "import pandas as pd\n",
    "import matplotlib.pyplot as plt\n",
    "from scipy.optimize import curve_fit"
   ]
  },
  {
   "cell_type": "code",
   "execution_count": null,
   "metadata": {},
   "outputs": [],
   "source": []
  },
  {
   "cell_type": "code",
   "execution_count": 44,
   "metadata": {},
   "outputs": [
    {
     "name": "stdout",
     "output_type": "stream",
     "text": [
      "done\n"
     ]
    }
   ],
   "source": [
    "# read first waveform file\n",
    "file = \"tester\"\n",
    "nevent1 = 0\n",
    "xList1 = []\n",
    "tList1 = []\n",
    "tDAQ1  = []\n",
    "event1 = []\n",
    "\n",
    "\n",
    "#f1 = open(\"../Output/wave0.dat\", \"rb\")\n",
    "#f1 = open(\"../../Messdaten/WS1920/test/na22-dat1.dat\", \"rb\")\n",
    "#f1 = open(dir_out+sample+'.dat', \"rb\")\n",
    "f1 = open(\"./\"+file+\".dat\", \"rb\")\n",
    "notEOF = True\n",
    "while notEOF and nevent1 < 100000000:\n",
    "   # read header: record, boardID, channel, pattern, event, time_ns\n",
    "   s = f1.read(24)\n",
    "   if len(s) != 24:\n",
    "      notEOF = False\n",
    "      break\n",
    "   record,boardID,channel,pattern,evt,time_ns = struct.unpack(\"<LLLLLL\", s)\n",
    "   #print record,boardID,channel,pattern,evt,time_ns\n",
    "   # read data: record = Byte length of the waveform event (16 bit per sample) + 24 (6*4Byte) header length \n",
    "   s = f1.read(record-24)\n",
    "   if len(s) != (record-24):\n",
    "      notEOF = False\n",
    "      break\n",
    "   data = struct.unpack(\"<\"+str(int((record-24)/2))+\"H\", s)\n",
    "  # determine the baseline signal (average of first 10 samples)\n",
    "   n_average = 20 \n",
    "   x0=0\n",
    "   for i in range(n_average):\n",
    "      x0 = x0 + data[i]\n",
    "   x0 = x0 / n_average\n",
    "\n",
    "   # find the maximum peak in the waveform event (gliding average of 10 samples)\n",
    "   imax = 0\n",
    "   xmax = 0.\n",
    "   xsum = 0.\n",
    "   for i in range(n_average,int((record-24)/2)):\n",
    "      xsum = xsum + data[i-n_average] - data[i]\n",
    "      #xsum =  x0 - data[i]\n",
    "      if xmax < xsum:\n",
    "         xmax = xsum\n",
    "         imax = i\n",
    "   xList1.append(xmax/n_average)\n",
    "   tList1.append(imax * 8)\n",
    "   tDAQ1.append(time_ns * 8)\n",
    "   event1.append(evt)\n",
    "   nevent1 = nevent1 + 1\n",
    "f1.close()\n",
    "print(\"done\")\n"
   ]
  },
  {
   "cell_type": "code",
   "execution_count": 28,
   "metadata": {},
   "outputs": [],
   "source": [
    "#array=np.arange(0, nBins*binSize, binSize)\n",
    "#np.sum(n1[800:850]) + np.sum(n1[900:950])"
   ]
  },
  {
   "cell_type": "code",
   "execution_count": 49,
   "metadata": {
    "scrolled": false
   },
   "outputs": [
    {
     "name": "stdout",
     "output_type": "stream",
     "text": [
      "Number of events:  7723\n"
     ]
    },
    {
     "data": {
      "image/png": "[encoded data removed]",
      "text/plain": [
       "<Figure size 432x288 with 1 Axes>"
      ]
     },
     "metadata": {
      "needs_background": "light"
     },
     "output_type": "display_data"
    }
   ],
   "source": [
    "# plot results\n",
    "binSize=2\n",
    "nBins=1000\n",
    "n1, bins, patches1 = plt.hist(xList1[:int(nevent1*5/5)], nBins, range=(0,nBins*binSize))\n",
    "\n",
    "n1, bins, patches1 = plt.hist(xList1[:int(nevent1*3/5)], nBins, range=(0,nBins*binSize))\n",
    "\n",
    "bin_centers = bins[:-1] + binSize/2\n",
    "plt.xlabel('energy (chn)')\n",
    "plt.ylabel('no. of events') \n",
    "plt.grid(True)\n",
    "print (\"Number of events: \",nevent1)\n",
    "plt.savefig(\"./\"+file+ \".png\")\n",
    "table = pd.DataFrame([bin_centers, n1]).T\n",
    "table.to_csv(\"./\"+file+ '.txt', index=None, sep=' ', mode='a', header=['bin_center', 'N_events'])\n",
    "#plt.xlim(0,250)\n",
    "plt.show()"
   ]
  },
  {
   "cell_type": "code",
   "execution_count": 67,
   "metadata": {},
   "outputs": [],
   "source": [
    "#unnötig\n",
    "#with open('Peaks.txt', \"w\") as file_w:\n",
    " #   file.write(\"file name \\t Peak at (CH) \\t sigma \\n\")"
   ]
  },
  {
   "cell_type": "code",
   "execution_count": 33,
   "metadata": {},
   "outputs": [
    {
     "name": "stdout",
     "output_type": "stream",
     "text": [
      "[ 1.73188635e+04 -1.72461222e+01  8.39029959e+02]\n"
     ]
    },
    {
     "data": {
      "image/png": "[encoded data removed]",
      "text/plain": [
       "<Figure size 432x288 with 1 Axes>"
      ]
     },
     "metadata": {
      "needs_background": "light"
     },
     "output_type": "display_data"
    }
   ],
   "source": [
    "\n",
    "def gauss (x,A,sigma,µ):\n",
    "    return A/np.sqrt(2*np.pi*sigma**2)*np.exp(-(x-µ)**2/(2*sigma**2))\n",
    "\n",
    "def gauss_const (x,A,sigma,µ,c):\n",
    "    return A/np.sqrt(2*np.pi*sigma**2)*np.exp(-(x-µ)**2/(2*sigma**2))+c\n",
    "\n",
    "dat_name = 'Analysis/Na22_data'\n",
    "dat = np.genfromtxt(\"./\" +file+ '.txt', skip_header = 1)\n",
    "x,y = dat.T \n",
    "\n",
    "beg_ch = 1400\n",
    "end_ch = 1600\n",
    "#p_0 = [500, 30, (end_ch+beg_ch)/2,6]\n",
    "#par1, cov= curve_fit(xdata = x[int(beg_ch/2):int(end_ch/2)], ydata = y[int(beg_ch/2):int(end_ch/2)], f =gauss_const,p0= p_0)\n",
    "#print(par1)\n",
    "beg_ch = 750\n",
    "end_ch = 900\n",
    "p_0 = [500, 30, (end_ch+beg_ch)/2]\n",
    "par2, cov= curve_fit(xdata = x[int(beg_ch/2):int(end_ch/2)], ydata = y[int(beg_ch/2):int(end_ch/2)], f =gauss, p0= p_0)\n",
    "print(par2)\n",
    "\n",
    "\n",
    "\n",
    "plt.plot(x, y, '-', label = 'Data')\n",
    "#plt.plot(x, gauss_const(x, par1[0], par1[1], par1[2],par1[3]), color='orange', label = 'Gaussian fit')\n",
    "plt.plot(x, gauss(x, par2[0], par2[1], par2[2]), color='orange')\n",
    "\n",
    "\n",
    "plt.xlabel('energy (chn)')\n",
    "plt.ylabel('no. of events')\n",
    "plt.legend()\n",
    "plt.grid()\n",
    "#plt.savefig(f'{dat_name}_fit.png')\n",
    "#plt.xlim(0,250)\n",
    "plt.show()\n",
    "\n",
    "if True:\n",
    "    with open('./'+file+'_Peaks.txt', \"a\") as file_write:\n",
    "        #file_write.write(f\"{file} \\t {par1[2]} \\t {par1[1]} \\n\")\n",
    "        file_write.write(f\"{file} \\t {par2[2]} \\t {par2[1]} \\n\")"
   ]
  },
  {
   "cell_type": "code",
   "execution_count": 38,
   "metadata": {},
   "outputs": [
    {
     "name": "stdout",
     "output_type": "stream",
     "text": [
      "839.0299586831686 17.246122167329563\n"
     ]
    },
    {
     "data": {
      "image/png": "[encoded data removed]",
      "text/plain": [
       "<Figure size 432x288 with 1 Axes>"
      ]
     },
     "metadata": {
      "needs_background": "light"
     },
     "output_type": "display_data"
    }
   ],
   "source": [
    "def integrate(mu, sig, dat_name,const_offset=0):\n",
    "    sig=np.abs(sig)\n",
    "    dat = np.genfromtxt(\"./\"+dat_name+ '.txt', skip_header = 1)\n",
    "    x,y = dat.T\n",
    "    \n",
    "    von = int((mu-1.5*sig)/2)\n",
    "    bis = int((mu+1.5*sig)/2)\n",
    "    print(mu,sig)\n",
    "    plt.plot(x, y, '-', label = 'Data')\n",
    "    plt.fill_between(x[von:bis], y[von:bis], color = \"green\", alpha = 0.5)\n",
    "    plt.xlabel('energy (chn)')\n",
    "    plt.ylabel('no. of events')\n",
    "    plt.legend()\n",
    "    plt.grid()\n",
    "    plt.savefig(f'{dat_name}_fit.png')\n",
    "    plt.show()\n",
    "    \n",
    "    return np.sum(np.array(y[von:bis]-const_offset))\n",
    "\n",
    "\n",
    "if True:\n",
    "    with open('./'+file+'_Peaks.txt', \"a\") as file_write:\n",
    "        #file_write.write(f\"{integrate(par1[2], par1[1],file, par1[3])}\\n\")\n",
    "        file_write.write(f\"{integrate(par2[2], par2[1],file)}\\n\")\n"
   ]
  },
  {
   "cell_type": "code",
   "execution_count": 19,
   "metadata": {},
   "outputs": [
    {
     "name": "stdout",
     "output_type": "stream",
     "text": [
      "Cs137 0.027475457629656464\n",
      "Na22 0.08527021572456664\n",
      "Na22 0.012795650618932569\n",
      "Co60 0.020396038541530156\n",
      "Co60 0.014453249797838076\n",
      "Co57 0.13906833620928188\n"
     ]
    }
   ],
   "source": [
    "prop = {\"Cs137\": [2.8*10**5, 30.2, [662], [7997]], \"Na22\": [1.1*10**4, 2.6,[511,1276], [833,125]], \"Co60\": [6.39*10**4, 5.27, [1173, 1332], [1263, 895]], \"Co57\": [6.01*10**6, 0.744, [122],[697354]]}\n",
    "\n",
    "def epsilon(el, i):\n",
    "    lam = np.log(2)/(prop[el][1]*365.25)\n",
    "    if el != \"Co57\":\n",
    "        time = 236\n",
    "    else:\n",
    "        time = 92\n",
    "    phi = prop[el][0]*np.exp(-lam*time)/(np.pi*4*0.215**2)\n",
    "    R = phi*np.pi*0.0255**2\n",
    "    return prop[el][3][i]/(300*R)\n",
    "\n",
    "elements = [\"Cs137\", \"Na22\", \"Co60\", \"Co57\"]\n",
    "\n",
    "for i in elements:\n",
    "    print(i, epsilon(i, 0))\n",
    "    try:\n",
    "        print(i, epsilon(i, 1))\n",
    "    except:\n",
    "        pass\n"
   ]
  },
  {
   "cell_type": "code",
   "execution_count": null,
   "metadata": {},
   "outputs": [],
   "source": []
  }
 ],
 "metadata": {
  "kernelspec": {
   "display_name": "Python 3",
   "language": "python",
   "name": "python3"
  },
  "language_info": {
   "codemirror_mode": {
    "name": "ipython",
    "version": 3
   },
   "file_extension": ".py",
   "mimetype": "text/x-python",
   "name": "python",
   "nbconvert_exporter": "python",
   "pygments_lexer": "ipython3",
   "version": "3.8.10"
  }
 },
 "nbformat": 4,
 "nbformat_minor": 2
}
